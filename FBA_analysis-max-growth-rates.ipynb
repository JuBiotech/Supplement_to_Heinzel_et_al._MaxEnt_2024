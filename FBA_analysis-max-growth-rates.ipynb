{
 "cells": [
  {
   "cell_type": "code",
   "execution_count": 1,
   "id": "95dfd2bc-7dd0-4d67-8311-0b56503b9fa3",
   "metadata": {
    "tags": []
   },
   "outputs": [],
   "source": [
    "import cobra\n",
    "import pandas as pd\n",
    "import matplotlib.pyplot as plt"
   ]
  },
  {
   "cell_type": "markdown",
   "id": "9a211523-5be1-4880-b9f0-4e45db60a99c",
   "metadata": {
    "tags": []
   },
   "source": [
    "# Read growth rate data"
   ]
  },
  {
   "cell_type": "code",
   "execution_count": 2,
   "id": "b5ad06e8-53ab-4c94-9607-66c72ba505a2",
   "metadata": {
    "scrolled": true,
    "tags": []
   },
   "outputs": [
    {
     "name": "stdout",
     "output_type": "stream",
     "text": [
      "PCA-Gluc mu: 0.1557936152166388 += 0.012774444510135584\n",
      "glucose-MOPS mu: 0.5829104732740061 += 0.022196212314551926\n",
      "citrat-MOPS mu: 0.7229719008169772 += 0.04890741496672533\n"
     ]
    }
   ],
   "source": [
    "all_mu = pd.read_csv('data/extracted_growth_rates_with_media.csv', index_col=0)\n",
    "# select area method (we could have used others, but area works well)\"\n",
    "method = \"area\"\n",
    "all_mu = all_mu[all_mu['method'].str.contains(\"area\")]\n",
    "pca_gluc_mu = all_mu[all_mu['medium'] == \"PCA-Gluc\"].reset_index()\n",
    "gluc_mu = all_mu[all_mu['medium'] == \"Glucose-MOPS\"].reset_index()\n",
    "citr_mu = all_mu[all_mu['medium'] == \"Citrat-MOPS\"].reset_index()\n",
    "\n",
    "mean_pca_gluc_mu = float(pca_gluc_mu['mu'].mean())\n",
    "std_pca_gluc_mu = float(pca_gluc_mu['mu'].std())\n",
    "print('PCA-Gluc mu:', mean_pca_gluc_mu, '+=', std_pca_gluc_mu)\n",
    "\n",
    "mean_gluc_mu = float(gluc_mu['mu'].mean())\n",
    "std_gluc_mu = float(gluc_mu['mu'].std())\n",
    "print('glucose-MOPS mu:', mean_gluc_mu, '+=', std_gluc_mu)\n",
    "\n",
    "mean_citr_mu = float(citr_mu['mu'].mean())\n",
    "std_citr_mu = float(citr_mu['mu'].std())\n",
    "print('citrat-MOPS mu:', mean_citr_mu, '+=', std_citr_mu)"
   ]
  },
  {
   "cell_type": "code",
   "execution_count": 12,
   "id": "47cf931b-89dc-4be0-bdb1-4af67c15a9e5",
   "metadata": {
    "tags": []
   },
   "outputs": [],
   "source": [
    "means = {\n",
    "    \"PCA-Gluc\": mean_pca_gluc_mu,\n",
    "    \"glucose-MOPS\": mean_gluc_mu,\n",
    "    \"citrat-MOPS\": mean_citr_mu\n",
    "}\n",
    "\n",
    "stds = {    \n",
    "    \"PCA-Gluc\": std_pca_gluc_mu,\n",
    "    \"glucose-MOPS\": std_gluc_mu,\n",
    "    \"citrat-MOPS\": std_citr_mu\n",
    "}\n",
    "\n",
    "models = {\n",
    "    \"PCA-Gluc\": \"models/iEZ481_PCA_Gluc.xml\",\n",
    "    \"glucose-MOPS\": \"models/iEZ481_Glucose-MOPS.xml\",\n",
    "    \"citrat-MOPS\": \"models/iEZ481_Citrat-MOPS.xml\",\n",
    "}\n",
    "\n",
    "objectives = {\n",
    "    \"PCA-Gluc\": \"EX_pca\",\n",
    "    \"glucose-MOPS\": \"EX_glc_e\",\n",
    "    \"citrat-MOPS\": \"EX_cit_e\",\n",
    "}\n",
    "\n",
    "biomass = \"biomass_a\"\n",
    "\n",
    "# from cQuellen2024.ipynb\n",
    "minimal_uptakes = {\n",
    "    \"PCA-Gluc\": -1.714818830406656,\n",
    "    \"glucose-MOPS\": -3.796562996954184,\n",
    "    \"citrat-MOPS\": -7.447701141488194,\n",
    "}\n",
    "\n",
    "n_stds = [\"0\"]\n",
    "\n",
    "results = {}"
   ]
  },
  {
   "cell_type": "code",
   "execution_count": 33,
   "id": "6038d66a-bbf7-4279-a7fe-a550edf12693",
   "metadata": {
    "tags": []
   },
   "outputs": [
    {
     "name": "stdout",
     "output_type": "stream",
     "text": [
      "evaluating PCA-Gluc\n",
      "Objective\n",
      "=========\n",
      "1.0 biomass_a = 0.15579361521663895\n",
      "\n",
      "Uptake\n",
      "------\n",
      "Metabolite Reaction   Flux  C-Number C-Flux\n",
      "     nh3_e EX_nh3_e  1.197         0  0.00%\n",
      "      o2_e  EX_o2_e  5.463         0  0.00%\n",
      "     pca_e   EX_pca  1.715         0  0.00%\n",
      "      pi_e  EX_pi_e 0.1277         0  0.00%\n",
      "     so3_e EX_so3_e 0.0187         0  0.00%\n",
      "       h_c  leakage    8.9         0  0.00%\n",
      "\n",
      "Secretion\n",
      "---------\n",
      "Metabolite Reaction   Flux  C-Number C-Flux\n",
      "     co2_e EX_co2_e -6.606         0  0.00%\n",
      "     h2o_e EX_h2o_e -10.67         0  0.00%\n",
      "\n",
      "PCA-Gluc\n",
      "         mean0stds\n",
      "glk       0.000000\n",
      "pgi      -0.198236\n",
      "pfkA      0.000000\n",
      "fbp       0.194518\n",
      "fda      -0.194518\n",
      "...            ...\n",
      "EX_C160   0.000000\n",
      "EX_C180   0.000000\n",
      "EX_C161   0.000000\n",
      "EX_C181   0.000000\n",
      "quiC      0.000000\n",
      "\n",
      "[558 rows x 1 columns]\n",
      "evaluating glucose-MOPS\n",
      "Objective\n",
      "=========\n",
      "1.0 biomass_a = 0.582910473274006\n",
      "\n",
      "Uptake\n",
      "------\n",
      "Metabolite Reaction    Flux  C-Number C-Flux\n",
      "   glc_D_e EX_glc_e   3.797         0  0.00%\n",
      "     nh3_e EX_nh3_e   4.479         0  0.00%\n",
      "      o2_e  EX_o2_e   12.66         0  0.00%\n",
      "     pca_e   EX_pca   1.715         0  0.00%\n",
      "      pi_e  EX_pi_e  0.4778         0  0.00%\n",
      "     so3_e EX_so3_e 0.06995         0  0.00%\n",
      "       h_c  leakage   41.94         0  0.00%\n",
      "\n",
      "Secretion\n",
      "---------\n",
      "Metabolite Reaction   Flux  C-Number C-Flux\n",
      "     co2_e EX_co2_e -14.59         0  0.00%\n",
      "     h2o_e EX_h2o_e  -48.6         0  0.00%\n",
      "\n",
      "glucose-MOPS\n",
      "         mean0stds\n",
      "glk       0.000000\n",
      "pgi       1.986825\n",
      "pfkA      2.712753\n",
      "fbp       0.000000\n",
      "fda       2.712753\n",
      "...            ...\n",
      "EX_C160   0.000000\n",
      "EX_C180   0.000000\n",
      "EX_C161   0.000000\n",
      "EX_C181   0.000000\n",
      "quiC      0.000000\n",
      "\n",
      "[558 rows x 1 columns]\n",
      "evaluating citrat-MOPS\n",
      "Objective\n",
      "=========\n",
      "1.0 biomass_a = 0.722971900816977\n",
      "\n",
      "Uptake\n",
      "------\n",
      "Metabolite Reaction    Flux  C-Number C-Flux\n",
      "     cit_e EX_cit_e   7.448         0  0.00%\n",
      "     nh3_e EX_nh3_e   5.556         0  0.00%\n",
      "      o2_e  EX_o2_e   18.29         0  0.00%\n",
      "     pca_e   EX_pca   1.715         0  0.00%\n",
      "      pi_e  EX_pi_e  0.5927         0  0.00%\n",
      "     so3_e EX_so3_e 0.08676         0  0.00%\n",
      "       h_c  leakage   46.12         0  0.00%\n",
      "\n",
      "Secretion\n",
      "---------\n",
      "Metabolite Reaction   Flux  C-Number C-Flux\n",
      "     co2_e EX_co2_e -31.64         0  0.00%\n",
      "     h2o_e EX_h2o_e -60.57         0  0.00%\n",
      "\n",
      "citrat-MOPS\n",
      "         mean0stds\n",
      "glk       0.000000\n",
      "pgi      -0.919927\n",
      "pfkA      0.000000\n",
      "fbp       0.902677\n",
      "fda      -0.902677\n",
      "...            ...\n",
      "EX_C160   0.000000\n",
      "EX_C180   0.000000\n",
      "EX_C161   0.000000\n",
      "EX_C181   0.000000\n",
      "quiC      0.000000\n",
      "\n",
      "[558 rows x 1 columns]\n"
     ]
    }
   ],
   "source": [
    "flux_names = []\n",
    "for case in models.keys():\n",
    "    print('evaluating', case)\n",
    "    model = cobra.io.read_sbml_model(models[case])\n",
    "    flux_names = [rxn.id for rxn in model.reactions]\n",
    "    model.solver = 'gurobi'\n",
    "    # max minimizes uptake, because signs are flipped for uptakes.\n",
    "    model.objective.direction = \"max\"\n",
    "    model.objective = 'biomass_a'\n",
    "\n",
    "    fluxes = []\n",
    "\n",
    "    for std in n_stds:\n",
    "        # trick to circumvent warning\n",
    "        model.reactions.get_by_id(objectives[case]).upper_bound = 0\n",
    "        model.reactions.get_by_id(objectives[case]).lower_bound = minimal_uptakes[case] \n",
    "        # model.reactions.get_by_id('biomass_a').lower_bound = means[case] + int(std)*stds[case]\n",
    "        # model.reactions.get_by_id('biomass_a').upper_bound = means[case] + int(std)*stds[case]\n",
    "        solution = model.optimize()\n",
    "        # print('for mean +', std,'std we obtain:')\n",
    "        # print(model.summary())\n",
    "        assert solution.status == 'optimal'\n",
    "        fluxes.append(solution.fluxes)\n",
    "        fluxes[-1].rename(\"mean\" + str(std) + \"stds\", inplace=True)\n",
    "        print(model.summary())\n",
    "\n",
    "\n",
    "    fluxes = pd.concat(fluxes, axis=1)\n",
    "    fluxes.to_csv(f'data/fba_results2/{case}_fluxes.csv')\n",
    "    print(case)\n",
    "    print(fluxes)"
   ]
  },
  {
   "cell_type": "code",
   "execution_count": 44,
   "id": "8f44ed90-ca6a-4dd2-8d18-0ee9ebbd8a2a",
   "metadata": {},
   "outputs": [],
   "source": [
    "old_fba = pd.read_csv(f'data/fba_results/{case}_fluxes.csv')#.set_index('Unnamed: 0')\n",
    "new_fba = pd.read_csv(f'data/fba_results2/{case}_fluxes.csv')#.set_index('Unnamed: 0')"
   ]
  },
  {
   "cell_type": "code",
   "execution_count": 45,
   "id": "07496f10-f4b1-4b11-ba11-a82c13f948d6",
   "metadata": {},
   "outputs": [
    {
     "name": "stdout",
     "output_type": "stream",
     "text": [
      "    Unnamed: 0  mean0stds\n",
      "0          glk   0.000000\n",
      "1          pgi  -0.919927\n",
      "2         pfkA   0.000000\n",
      "3          fbp   0.902677\n",
      "4          fda  -0.902677\n",
      "..         ...        ...\n",
      "553    EX_C160   0.000000\n",
      "554    EX_C180   0.000000\n",
      "555    EX_C161   0.000000\n",
      "556    EX_C181   0.000000\n",
      "557       quiC   0.000000\n",
      "\n",
      "[558 rows x 2 columns]\n",
      "    Unnamed: 0  mean0stds\n",
      "0          glk   0.000000\n",
      "1          pgi  -0.919927\n",
      "2         pfkA   0.000000\n",
      "3          fbp   0.902677\n",
      "4          fda  -0.902677\n",
      "..         ...        ...\n",
      "553    EX_C160   0.000000\n",
      "554    EX_C180   0.000000\n",
      "555    EX_C161   0.000000\n",
      "556    EX_C181   0.000000\n",
      "557       quiC   0.000000\n",
      "\n",
      "[558 rows x 2 columns]\n"
     ]
    }
   ],
   "source": [
    "print(new_fba)\n",
    "print(old_fba)"
   ]
  },
  {
   "cell_type": "code",
   "execution_count": 49,
   "id": "4f15074b-685e-4772-9bd8-2e92924a97d1",
   "metadata": {},
   "outputs": [
    {
     "name": "stdout",
     "output_type": "stream",
     "text": [
      "0      0.000000e+00\n",
      "1      2.275957e-14\n",
      "2      0.000000e+00\n",
      "3     -2.264855e-14\n",
      "4      2.264855e-14\n",
      "           ...     \n",
      "553    0.000000e+00\n",
      "554    0.000000e+00\n",
      "555    0.000000e+00\n",
      "556    0.000000e+00\n",
      "557    0.000000e+00\n",
      "Name: mean0stds, Length: 558, dtype: float64\n"
     ]
    }
   ],
   "source": [
    "print(old_fba['mean0stds'] - new_fba['mean0stds'])\n",
    "old_fba = old_fba['mean0stds'] \n",
    "new_fba = new_fba['mean0stds']"
   ]
  },
  {
   "cell_type": "code",
   "execution_count": 50,
   "id": "6afa8a29-caae-4ad1-a9fd-74632fab171e",
   "metadata": {},
   "outputs": [
    {
     "name": "stdout",
     "output_type": "stream",
     "text": [
      "33.355910085602005\n",
      "0.7146248451144386\n",
      "4.8762012696163355\n",
      "276\n"
     ]
    }
   ],
   "source": [
    "print((old_fba - new_fba).max())\n",
    "print((old_fba - new_fba).mean())\n",
    "print((old_fba - new_fba).std())\n",
    "print((old_fba - new_fba).idxmax())"
   ]
  },
  {
   "cell_type": "code",
   "execution_count": 51,
   "id": "12d77548-fd27-43dc-95a1-ef15130ce12b",
   "metadata": {},
   "outputs": [],
   "source": [
    "fluxes_to_plot = ['tkt_2', 'pgi', 'sdhCAB', 'rpi', 'fda', 'sucD', 'gltA', 'pyc', 'pgk', 'aceA',]"
   ]
  },
  {
   "cell_type": "code",
   "execution_count": 57,
   "id": "a0f4b2ec-5ba0-446b-88d2-040f6dbbb17c",
   "metadata": {},
   "outputs": [],
   "source": [
    "indices = []\n",
    "name = []\n",
    "for f in fluxes_to_plot:\n",
    "    indices.append(flux_names.index(f))\n",
    "indices = sorted(indices)\n",
    "\n",
    "for i in indices:\n",
    "    name.append(flux_names[i])"
   ]
  },
  {
   "cell_type": "code",
   "execution_count": 60,
   "id": "5391ef2c-29d4-4620-bc02-01e2c74d681f",
   "metadata": {},
   "outputs": [
    {
     "name": "stdout",
     "output_type": "stream",
     "text": [
      "['pgi', 'fda', 'pgk', 'gltA', 'sucD', 'sdhCAB', 'aceA', 'pyc', 'rpi', 'tkt_2']\n"
     ]
    }
   ],
   "source": [
    "print(name)"
   ]
  },
  {
   "cell_type": "code",
   "execution_count": 63,
   "id": "841a46bc-c2bb-4d44-83f1-ec0b1a4f79a5",
   "metadata": {},
   "outputs": [
    {
     "name": "stdout",
     "output_type": "stream",
     "text": [
      "1     -0.919927\n",
      "4     -0.902677\n",
      "8     -1.834099\n",
      "20     0.000000\n",
      "25     0.000000\n",
      "26     6.206409\n",
      "29    25.610428\n",
      "33     5.875360\n",
      "38     0.694867\n",
      "42     0.000000\n",
      "Name: mean0stds, dtype: float64\n",
      "1     -0.919927\n",
      "4     -0.902677\n",
      "8     -1.834099\n",
      "20     2.181034\n",
      "25     8.657010\n",
      "26    10.371829\n",
      "29     0.000000\n",
      "33     0.000000\n",
      "38     0.694867\n",
      "42     0.000000\n",
      "Name: mean0stds, dtype: float64\n",
      "1     2.275957e-14\n",
      "4     2.264855e-14\n",
      "8     4.551914e-14\n",
      "20   -2.181034e+00\n",
      "25   -8.657010e+00\n",
      "26   -4.165420e+00\n",
      "29    2.561043e+01\n",
      "33    5.875360e+00\n",
      "38   -1.421085e-14\n",
      "42    0.000000e+00\n",
      "Name: mean0stds, dtype: float64\n"
     ]
    }
   ],
   "source": [
    "print(old_fba.loc[indices])\n",
    "print(new_fba.loc[indices])\n",
    "print(old_fba.loc[indices] - new_fba.loc[indices])"
   ]
  },
  {
   "cell_type": "code",
   "execution_count": 65,
   "id": "0443f5ad-749d-45cc-b1f5-cc1b7af3063f",
   "metadata": {},
   "outputs": [
    {
     "data": {
      "text/plain": [
       "'sucD'"
      ]
     },
     "execution_count": 65,
     "metadata": {},
     "output_type": "execute_result"
    }
   ],
   "source": [
    "name[indices.index(25)]"
   ]
  },
  {
   "cell_type": "code",
   "execution_count": null,
   "id": "ae9ba702-1f70-46fa-af94-5907b72cd863",
   "metadata": {},
   "outputs": [],
   "source": []
  }
 ],
 "metadata": {
  "kernelspec": {
   "display_name": "Python 3 (ipykernel)",
   "language": "python",
   "name": "python3"
  },
  "language_info": {
   "codemirror_mode": {
    "name": "ipython",
    "version": 3
   },
   "file_extension": ".py",
   "mimetype": "text/x-python",
   "name": "python",
   "nbconvert_exporter": "python",
   "pygments_lexer": "ipython3",
   "version": "3.12.4"
  }
 },
 "nbformat": 4,
 "nbformat_minor": 5
}
