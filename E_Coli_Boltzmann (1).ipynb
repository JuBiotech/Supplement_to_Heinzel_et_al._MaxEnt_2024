{
 "cells": [
  {
   "cell_type": "code",
   "execution_count": 3,
   "id": "19a51834-9406-428c-b0ef-b8f686906abe",
   "metadata": {
    "tags": []
   },
   "outputs": [],
   "source": [
    "import matplotlib.pyplot as plt\n",
    "import hopsy\n",
    "import os\n",
    "import numpy as np\n",
    "from scipy.optimize import fsolve\n",
    "import pandas as pd\n",
    "from scipy.optimize import curve_fit\n",
    "from PolyRound.api import PolyRoundApi"
   ]
  },
  {
   "cell_type": "code",
   "execution_count": 87,
   "id": "c8a92bed-0e0f-46ed-95cf-ddd47c7e4117",
   "metadata": {
    "tags": []
   },
   "outputs": [],
   "source": [
    "class Boltzman_Modell:\n",
    "    def __init__(self, beta, index):\n",
    "        self.beta = beta\n",
    "        self.index = index\n",
    "        \n",
    "    def compute_negative_log_likelihood(self, x):\n",
    "        return - self.beta * x[self.index]"
   ]
  },
  {
   "cell_type": "code",
   "execution_count": 88,
   "id": "0fc9d9d3",
   "metadata": {},
   "outputs": [],
   "source": [
    "class Normal_Modell:\n",
    "    def __init__(self, mu, sigma, index):\n",
    "        self.mu = mu\n",
    "        self.index = index\n",
    "        self.sigma = sigma\n",
    "        \n",
    "    def compute_negative_log_likelihood(self, x):\n",
    "        return 0.5 * (x[self.index]-self.mu)**2/(self.sigma**2)"
   ]
  },
  {
   "cell_type": "code",
   "execution_count": 4,
   "id": "997d7971-2523-43af-8217-c5b9e42b65c8",
   "metadata": {
    "tags": []
   },
   "outputs": [],
   "source": [
    "model_path = os.path.join(\"C:/Users/carol/OneDrive/Desktop/Juelich\", \"e_coli_core.xml\")"
   ]
  },
  {
   "cell_type": "code",
   "execution_count": 89,
   "id": "0512aa82-4cc4-4bd6-83fd-00d1f898aa82",
   "metadata": {
    "tags": []
   },
   "outputs": [],
   "source": [
    "raw_polytope = PolyRoundApi.sbml_to_polytope(model_path)\n",
    "biomass_index = raw_polytope.A.columns.tolist().index('BIOMASS_Ecoli_core_w_GAM')\n",
    "glucose_uptake_index = raw_polytope.A.columns.tolist().index('EX_glc__D_e')\n",
    "polytope = PolyRoundApi.simplify_transform_and_round(raw_polytope)"
   ]
  },
  {
   "cell_type": "code",
   "execution_count": 90,
   "id": "b9de4446",
   "metadata": {},
   "outputs": [],
   "source": [
    "uniform = hopsy.Problem(A=polytope.A, b=polytope.b, transformation=polytope.transformation, shift=polytope.shift)\n",
    "starting_point = hopsy.compute_chebyshev_center(uniform)"
   ]
  },
  {
   "cell_type": "code",
   "execution_count": 91,
   "id": "09e54c36",
   "metadata": {},
   "outputs": [],
   "source": [
    "# Für die Boltzmann-Verteilung\n",
    "a = np.array(0)\n",
    "model_Boltzmann = Boltzman_Modell(a, biomass_index)\n",
    "uniform_2 = hopsy.Problem(A=polytope.A, b=polytope.b, model = model_Boltzmann, transformation=polytope.transformation, shift=polytope.shift)\n",
    "starting_point_2 = hopsy.compute_chebyshev_center(uniform_2)"
   ]
  },
  {
   "cell_type": "code",
   "execution_count": 92,
   "id": "a1863e46",
   "metadata": {},
   "outputs": [],
   "source": [
    "# Für die Boltzmann-Verteilung\n",
    "a = np.array(10)\n",
    "model_Boltzmann = Boltzman_Modell(a, biomass_index)\n",
    "boltzmann_1 = hopsy.Problem(A=polytope.A, b=polytope.b, model = model_Boltzmann, transformation=polytope.transformation, shift=polytope.shift)\n",
    "starting_point_boltzmann = hopsy.compute_chebyshev_center(boltzmann_1)"
   ]
  },
  {
   "cell_type": "code",
   "execution_count": 93,
   "id": "9aef33d1",
   "metadata": {},
   "outputs": [],
   "source": [
    "# Für die Boltzmann-Verteilung\n",
    "a = np.array(-10)\n",
    "model_Boltzmann = Boltzman_Modell(a, biomass_index)\n",
    "boltzmann_2 = hopsy.Problem(A=polytope.A, b=polytope.b, model = model_Boltzmann, transformation=polytope.transformation, shift=polytope.shift)\n",
    "starting_point_boltzmann_2 = hopsy.compute_chebyshev_center(boltzmann_2)"
   ]
  },
  {
   "cell_type": "code",
   "execution_count": 94,
   "id": "3b1099cc",
   "metadata": {},
   "outputs": [],
   "source": [
    "# Für die Boltzmann-Verteilung\n",
    "a = np.array(-100)\n",
    "model_Boltzmann = Boltzman_Modell(a, biomass_index)\n",
    "boltzmann_3 = hopsy.Problem(A=polytope.A, b=polytope.b, model = model_Boltzmann, transformation=polytope.transformation, shift=polytope.shift)\n",
    "starting_point_boltzmann_3 = hopsy.compute_chebyshev_center(boltzmann_3)"
   ]
  },
  {
   "cell_type": "code",
   "execution_count": 95,
   "id": "e6c5edaf",
   "metadata": {},
   "outputs": [],
   "source": [
    "# Für die Normal-Verteilung\n",
    "mu = np.array(1)\n",
    "sigma = np.array(50)\n",
    "model_normal = Normal_Modell(mu, sigma, biomass_index)\n"
   ]
  },
  {
   "cell_type": "code",
   "execution_count": 96,
   "id": "a203e6c6",
   "metadata": {},
   "outputs": [],
   "source": [
    "normal = hopsy.Problem(A=polytope.A, b=polytope.b, model = model_normal, transformation=polytope.transformation, shift=polytope.shift)\n",
    "starting_point_normal_3 = hopsy.compute_chebyshev_center(normal)"
   ]
  },
  {
   "cell_type": "code",
   "execution_count": null,
   "id": "86f54451",
   "metadata": {},
   "outputs": [],
   "source": []
  },
  {
   "cell_type": "code",
   "execution_count": null,
   "id": "8ccfb15d",
   "metadata": {},
   "outputs": [],
   "source": []
  },
  {
   "cell_type": "code",
   "execution_count": 97,
   "id": "c5d5cc43-5802-4ea4-a087-4ba7f7f76f25",
   "metadata": {
    "tags": []
   },
   "outputs": [],
   "source": [
    "problems = {\n",
    "    'uniform': [uniform, starting_point],\n",
    "    'beta=0': [uniform_2, starting_point_2],  \n",
    "    'beta=10': [boltzmann_1, starting_point_boltzmann], \n",
    "     'beta=-10': [boltzmann_2, starting_point_boltzmann_2], \n",
    "     'beta = -100': [boltzmann_3, starting_point_boltzmann_3],\n",
    "     'normal':[normal, starting_point_normal_3]\n",
    "    }"
   ]
  },
  {
   "cell_type": "code",
   "execution_count": 98,
   "id": "1e79caf0-69d4-4647-965f-8e54bde76805",
   "metadata": {
    "tags": []
   },
   "outputs": [
    {
     "name": "stdout",
     "output_type": "stream",
     "text": [
      "uniform\n",
      "\tess 730.2609014651691\n",
      "\trhat 1.0066610470050092\n",
      "beta=0\n",
      "\tess 730.2609014651691\n",
      "\trhat 1.0066610470050092\n",
      "beta=10\n",
      "\tess 513.4994025716682\n",
      "\trhat 1.0146139396556348\n",
      "beta=-10\n",
      "\tess 721.0720572874002\n",
      "\trhat 1.008430502564084\n",
      "beta = -100\n",
      "\tess 319.5445972834105\n",
      "\trhat 1.0131128546046237\n",
      "normal\n",
      "\tess 669.5750523278033\n",
      "\trhat 1.0062753440459922\n"
     ]
    }
   ],
   "source": [
    "rhat = {}\n",
    "ess = {}\n",
    "samples = {}\n",
    "acceptance_rate = {}\n",
    "n_chains = 4 \n",
    "n_samples = 10000\n",
    "thinning = 10\n",
    "\n",
    "for p, liste in problems.items():\n",
    "    v = liste[0]\n",
    "    s = liste[1]\n",
    "    print(p)\n",
    "    proposal = hopsy.UniformCoordinateHitAndRunProposal(v, starting_point=s)\n",
    "    mcs = [hopsy.MarkovChain(problem=v, proposal=proposal) for i in range(n_chains)]\n",
    "    rngs = [hopsy.RandomNumberGenerator(i) for i in range(n_chains)]\n",
    "    acceptance_rate[p], samples[p] = hopsy.sample(mcs, rngs, n_samples=n_samples, thinning=thinning, n_procs=1)\n",
    "    ess[p] = hopsy.ess(samples[p])\n",
    "    print('\\tess', np.min(ess[p]))\n",
    "    rhat[p] = hopsy.rhat(samples[p])\n",
    "    print('\\trhat', np.max(rhat[p]))"
   ]
  },
  {
   "cell_type": "code",
   "execution_count": 103,
   "id": "9433f303-f0df-4635-a462-4bbad28d4ae4",
   "metadata": {},
   "outputs": [
    {
     "data": {
      "image/png": "[encoded data removed]",
      "text/plain": [
       "<Figure size 640x480 with 1 Axes>"
      ]
     },
     "metadata": {},
     "output_type": "display_data"
    },
    {
     "data": {
      "image/png": "[encoded data removed]",
      "text/plain": [
       "<Figure size 640x480 with 1 Axes>"
      ]
     },
     "metadata": {},
     "output_type": "display_data"
    }
   ],
   "source": [
    "plt.title('biomass')\n",
    "#plt.hist(samples['uniform'][0, :, biomass_index], density = True, label = \"Gleich\")\n",
    "# TODO\n",
    "#plt.hist(samples['beta=0'][0, :, biomass_index], density = True, color = \"red\",label = \"beta = 0\" )\n",
    "#plt.hist(samples['beta=10'][0, :, biomass_index], density = True, color = \"green\", label = \"beta = 10\")\n",
    "plt.hist(samples['beta=-10'][0, :, biomass_index], density = True, color = \"blue\", label = \"beta = -10\")\n",
    "plt.hist(samples['beta = -100'][0, :, biomass_index], density = True, color = \"orange\", label = \"beta = -100\")\n",
    "plt.hist(samples['normal'][0, :, biomass_index], density = True, color = \"yellow\", label = \"normal\")\n",
    "plt.hist(samples['uniform'][0, :, biomass_index], density = True, label = \"Gleich\")\n",
    "\n",
    "\n",
    "plt.legend(loc='upper right')\n",
    "plt.show()\n",
    "plt.title('-glucose uptake')\n",
    "#plt.hist(samples['beta=0'][0, :, glucose_uptake_index], density = True, color = \"red\",label = \"beta = 0\")\n",
    "#plt.hist(samples['beta=10'][0, :, glucose_uptake_index], density = True, color = \"green\", label = \"beta = 10\")\n",
    "plt.hist(samples['beta=-10'][0, :, glucose_uptake_index], density = True, color = \"blue\", label = \"beta = -10\")\n",
    "plt.hist(samples['beta = -100'][0, :, glucose_uptake_index], density = True, color = \"orange\", label = \"beta = -100\")\n",
    "plt.hist(samples['normal'][0, :, glucose_uptake_index], density = True, color = \"yellow\", label = \"normal\")\n",
    "plt.hist(samples['uniform'][0, :, glucose_uptake_index], density = True, label = \"Gleich\")\n",
    "\n",
    "plt.legend(loc='upper right')\n",
    "plt.show()"
   ]
  },
  {
   "cell_type": "code",
   "execution_count": 36,
   "id": "d5869979-a41d-4011-82b7-d5a5db088b9c",
   "metadata": {},
   "outputs": [
    {
     "name": "stdout",
     "output_type": "stream",
     "text": [
      "Help on function MarkovChain in module hopsy.misc:\n",
      "\n",
      "MarkovChain(problem: hopsy.core.Problem, proposal: Union[hopsy.core.Proposal, Type[hopsy.core.Proposal]] = <class 'hopsy.core.GaussianHitAndRunProposal'>, starting_point: Union[numpy.__array_like._SupportsArray[numpy.dtype], numpy.__nested_sequence._NestedSequence[numpy.__array_like._SupportsArray[numpy.dtype]], bool, int, float, complex, str, bytes, numpy.__nested_sequence._NestedSequence[Union[bool, int, float, complex, str, bytes]]] = None, parallelTemperingSyncRng: hopsy.core.RandomNumberGenerator = None, exchangeAttemptProbability: float = 0.1)\n",
      "    MarkovChain(problem, proposal=hopsy.GaussianHitAndRun, starting_point=None)\n",
      "    \n",
      "    Given a hopsy.Problem a MarkovChain object can be constructed. The Markov chain keeps track of the internal state and the selected proposal mechanism, see proposal argument.\n",
      "    Several Markov chain objects can be sampled in parallel by passing them as a list to hopsy.sample.\n",
      "\n"
     ]
    }
   ],
   "source": [
    "help(hopsy.MarkovChain)"
   ]
  },
  {
   "cell_type": "code",
   "execution_count": null,
   "id": "2ee57854-8a4d-4e08-a6f8-842d68da3db6",
   "metadata": {
    "tags": []
   },
   "outputs": [],
   "source": []
  },
  {
   "cell_type": "code",
   "execution_count": null,
   "id": "9a63657a-2840-4359-ad15-191d329a295c",
   "metadata": {},
   "outputs": [],
   "source": []
  }
 ],
 "metadata": {
  "kernelspec": {
   "display_name": "Python 3 (ipykernel)",
   "language": "python",
   "name": "python3"
  },
  "language_info": {
   "codemirror_mode": {
    "name": "ipython",
    "version": 3
   },
   "file_extension": ".py",
   "mimetype": "text/x-python",
   "name": "python",
   "nbconvert_exporter": "python",
   "pygments_lexer": "ipython3",
   "version": "3.8.3"
  }
 },
 "nbformat": 4,
 "nbformat_minor": 5
}
