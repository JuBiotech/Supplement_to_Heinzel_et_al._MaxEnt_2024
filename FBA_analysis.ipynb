{
 "cells": [
  {
   "cell_type": "code",
   "execution_count": 1,
   "id": "95dfd2bc-7dd0-4d67-8311-0b56503b9fa3",
   "metadata": {
    "tags": []
   },
   "outputs": [],
   "source": [
    "import cobra\n",
    "import pandas as pd\n",
    "import matplotlib.pyplot as plt"
   ]
  },
  {
   "cell_type": "markdown",
   "id": "9a211523-5be1-4880-b9f0-4e45db60a99c",
   "metadata": {
    "tags": []
   },
   "source": [
    "# Read growth rate data"
   ]
  },
  {
   "cell_type": "code",
   "execution_count": 2,
   "id": "b5ad06e8-53ab-4c94-9607-66c72ba505a2",
   "metadata": {
    "tags": []
   },
   "outputs": [
    {
     "name": "stdout",
     "output_type": "stream",
     "text": [
      "PCA-Gluc mu: 0.1557936152166388 += 0.012774444510135584\n",
      "glucose-MOPS mu: 0.5829104732740061 += 0.022196212314551926\n",
      "citrat-MOPS mu: 0.7229719008169772 += 0.04890741496672533\n"
     ]
    }
   ],
   "source": [
    "all_mu = pd.read_csv('data/extracted_growth_rates_with_media.csv', index_col=0)\n",
    "# select area method (we could have used others, but area works well)\"\n",
    "method = \"area\"\n",
    "all_mu = all_mu[all_mu['method'].str.contains(\"area\")]\n",
    "pca_gluc_mu = all_mu[all_mu['medium'] == \"PCA-Gluc\"].reset_index()\n",
    "gluc_mu = all_mu[all_mu['medium'] == \"Glucose-MOPS\"].reset_index()\n",
    "citr_mu = all_mu[all_mu['medium'] == \"Citrat-MOPS\"].reset_index()\n",
    "\n",
    "mean_pca_gluc_mu = float(pca_gluc_mu['mu'].mean())\n",
    "std_pca_gluc_mu = float(pca_gluc_mu['mu'].std())\n",
    "print('PCA-Gluc mu:', mean_pca_gluc_mu, '+=', std_pca_gluc_mu)\n",
    "\n",
    "mean_gluc_mu = float(gluc_mu['mu'].mean())\n",
    "std_gluc_mu = float(gluc_mu['mu'].std())\n",
    "print('glucose-MOPS mu:', mean_gluc_mu, '+=', std_gluc_mu)\n",
    "\n",
    "mean_citr_mu = float(citr_mu['mu'].mean())\n",
    "std_citr_mu = float(citr_mu['mu'].std())\n",
    "print('citrat-MOPS mu:', mean_citr_mu, '+=', std_citr_mu)"
   ]
  },
  {
   "cell_type": "code",
   "execution_count": 3,
   "id": "47cf931b-89dc-4be0-bdb1-4af67c15a9e5",
   "metadata": {
    "tags": []
   },
   "outputs": [],
   "source": [
    "means = {\n",
    "    \"PCA-Gluc\": mean_pca_gluc_mu,\n",
    "    \"glucose-MOPS\": mean_gluc_mu,\n",
    "    \"citrat-MOPS\": mean_citr_mu\n",
    "}\n",
    "\n",
    "stds = {    \n",
    "    \"PCA-Gluc\": std_pca_gluc_mu,\n",
    "    \"glucose-MOPS\": std_gluc_mu,\n",
    "    \"citrat-MOPS\": std_citr_mu\n",
    "}\n",
    "\n",
    "models = {\n",
    "    \"PCA-Gluc\": \"models/iEZ481_PCA_Gluc.xml\",\n",
    "    \"glucose-MOPS\": \"models/iEZ481_Glucose-MOPS.xml\",\n",
    "    \"citrat-MOPS\": \"models/iEZ481_Citrat-MOPS.xml\",\n",
    "}\n",
    "\n",
    "objectives = {\n",
    "    \"PCA-Gluc\": \"EX_glc_e\",\n",
    "    \"glucose-MOPS\": \"EX_glc_e\",\n",
    "    \"citrat-MOPS\": \"EX_cit_e\",\n",
    "}\n",
    "\n",
    "n_stds = [\"-3\", \"-2\", \"-1\", \"+0\", \"+1\", \"+2\", \"+3\"]\n",
    "\n",
    "results = {}"
   ]
  },
  {
   "cell_type": "code",
   "execution_count": 4,
   "id": "6038d66a-bbf7-4279-a7fe-a550edf12693",
   "metadata": {
    "tags": []
   },
   "outputs": [
    {
     "name": "stdout",
     "output_type": "stream",
     "text": [
      "evaluating PCA-Gluc\n",
      "Set parameter Username\n",
      "Academic license - for non-commercial use only - expires 2025-03-22\n",
      "PCA-Gluc\n",
      "         mean-3stds  mean-2stds  mean-1stds  mean+0stds  mean+1stds  \\\n",
      "glk        0.000000    0.000000    0.000000    0.000000    0.000000   \n",
      "pgi       -0.149472   -0.165727   -0.181981   -0.198236   -0.214490   \n",
      "pfkA       0.000000    0.000000    0.000000    0.000000    0.000000   \n",
      "fbp        0.146669    0.162619    0.178569    0.194518    0.210468   \n",
      "fda       -0.146669   -0.162619   -0.178569   -0.194518   -0.210468   \n",
      "...             ...         ...         ...         ...         ...   \n",
      "EX_C160    0.000000    0.000000    0.000000    0.000000    0.000000   \n",
      "EX_C180    0.000000    0.000000    0.000000    0.000000    0.000000   \n",
      "EX_C161    0.000000    0.000000    0.000000    0.000000    0.000000   \n",
      "EX_C181    0.000000    0.000000    0.000000    0.000000    0.000000   \n",
      "quiC       0.000000    0.000000    0.000000    0.000000    0.000000   \n",
      "\n",
      "         mean+2stds  mean+3stds  \n",
      "glk        0.000000    0.000000  \n",
      "pgi       -0.230745   -0.246999  \n",
      "pfkA       0.000000    0.000000  \n",
      "fbp        0.226418    0.242367  \n",
      "fda       -0.226418   -0.242367  \n",
      "...             ...         ...  \n",
      "EX_C160    0.000000    0.000000  \n",
      "EX_C180    0.000000    0.000000  \n",
      "EX_C161    0.000000    0.000000  \n",
      "EX_C181    0.000000    0.000000  \n",
      "quiC       0.000000    0.000000  \n",
      "\n",
      "[558 rows x 7 columns]\n",
      "evaluating glucose-MOPS\n",
      "glucose-MOPS\n",
      "         mean-3stds  mean-2stds  mean-1stds  mean+0stds  mean+1stds  \\\n",
      "glk        0.000000    0.000000    0.000000    0.000000    0.000000   \n",
      "pgi        1.755326    1.832493    1.909659    1.986825    2.063992   \n",
      "pfkA       2.293126    2.433002    2.572877    2.712753    2.852628   \n",
      "fbp        0.000000    0.000000    0.000000    0.000000    0.000000   \n",
      "fda        2.293126    2.433002    2.572877    2.712753    2.852628   \n",
      "...             ...         ...         ...         ...         ...   \n",
      "EX_C160    0.000000    0.000000    0.000000    0.000000    0.000000   \n",
      "EX_C180    0.000000    0.000000    0.000000    0.000000    0.000000   \n",
      "EX_C161    0.000000    0.000000    0.000000    0.000000    0.000000   \n",
      "EX_C181    0.000000    0.000000    0.000000    0.000000    0.000000   \n",
      "quiC       0.000000    0.000000    0.000000    0.000000    0.000000   \n",
      "\n",
      "         mean+2stds  mean+3stds  \n",
      "glk        0.000000    0.000000  \n",
      "pgi        2.141158    2.223168  \n",
      "pfkA       2.992503    3.134149  \n",
      "fbp        0.000000    0.000000  \n",
      "fda        2.992503    3.134149  \n",
      "...             ...         ...  \n",
      "EX_C160    0.000000    0.000000  \n",
      "EX_C180    0.000000    0.000000  \n",
      "EX_C161    0.000000    0.000000  \n",
      "EX_C181    0.000000    0.000000  \n",
      "quiC       0.000000    0.000000  \n",
      "\n",
      "[558 rows x 7 columns]\n",
      "evaluating citrat-MOPS\n",
      "citrat-MOPS\n",
      "         mean-3stds  mean-2stds  mean-1stds  mean+0stds  mean+1stds  \\\n",
      "glk        0.000000    0.000000    0.000000    0.000000    0.000000   \n",
      "pgi       -0.733234   -0.795465   -0.857696   -0.919927   -0.982158   \n",
      "pfkA       0.000000    0.000000    0.000000    0.000000    0.000000   \n",
      "fbp        0.719485    0.780549    0.841613    0.902677    0.963741   \n",
      "fda       -0.719485   -0.780549   -0.841613   -0.902677   -0.963741   \n",
      "...             ...         ...         ...         ...         ...   \n",
      "EX_C160    0.000000    0.000000    0.000000    0.000000    0.000000   \n",
      "EX_C180    0.000000    0.000000    0.000000    0.000000    0.000000   \n",
      "EX_C161    0.000000    0.000000    0.000000    0.000000    0.000000   \n",
      "EX_C181    0.000000    0.000000    0.000000    0.000000    0.000000   \n",
      "quiC       0.000000    0.000000    0.000000    0.000000    0.000000   \n",
      "\n",
      "         mean+2stds  mean+3stds  \n",
      "glk        0.000000    0.000000  \n",
      "pgi       -1.044389   -1.106620  \n",
      "pfkA       0.000000    0.000000  \n",
      "fbp        1.024805    1.085869  \n",
      "fda       -1.024805   -1.085869  \n",
      "...             ...         ...  \n",
      "EX_C160    0.000000    0.000000  \n",
      "EX_C180    0.000000    0.000000  \n",
      "EX_C161    0.000000    0.000000  \n",
      "EX_C181    0.000000    0.000000  \n",
      "quiC       0.000000    0.000000  \n",
      "\n",
      "[558 rows x 7 columns]\n"
     ]
    }
   ],
   "source": [
    "for case in models.keys():\n",
    "    print('evaluating', case)\n",
    "    model = cobra.io.read_sbml_model(models[case])\n",
    "    model.solver = 'gurobi'\n",
    "    # max minimizes uptake, because signs are flipped for uptakes.\n",
    "    model.objective.direction = \"max\"\n",
    "    model.objective = 'biomass_a'\n",
    "\n",
    "    fluxes = []\n",
    "\n",
    "    for std in n_stds:\n",
    "        # trick to circumvent warning\n",
    "        model.objective\n",
    "        model.reactions.get_by_id('biomass_a').upper_bound = 1e6\n",
    "        model.reactions.get_by_id('biomass_a').lower_bound = -1e6\n",
    "        model.reactions.get_by_id('biomass_a').lower_bound = means[case] + int(std)*stds[case]\n",
    "        model.reactions.get_by_id('biomass_a').upper_bound = means[case] + int(std)*stds[case]\n",
    "        solution = model.optimize()\n",
    "        # print('for mean +', std,'std we obtain:')\n",
    "        # print(model.summary())\n",
    "        assert solution.status == 'optimal'\n",
    "        fluxes.append(solution.fluxes)\n",
    "        fluxes[-1].rename(\"mean\" + str(std) + \"stds\", inplace=True)\n",
    "\n",
    "\n",
    "    fluxes = pd.concat(fluxes, axis=1)\n",
    "    fluxes.to_csv(f'data/fba_results/{case}_fluxes.csv')\n",
    "    print(case)\n",
    "    print(fluxes)"
   ]
  },
  {
   "cell_type": "code",
   "execution_count": null,
   "id": "8f44ed90-ca6a-4dd2-8d18-0ee9ebbd8a2a",
   "metadata": {},
   "outputs": [],
   "source": []
  }
 ],
 "metadata": {
  "kernelspec": {
   "display_name": "Python 3 (ipykernel)",
   "language": "python",
   "name": "python3"
  },
  "language_info": {
   "codemirror_mode": {
    "name": "ipython",
    "version": 3
   },
   "file_extension": ".py",
   "mimetype": "text/x-python",
   "name": "python",
   "nbconvert_exporter": "python",
   "pygments_lexer": "ipython3",
   "version": "3.12.3"
  }
 },
 "nbformat": 4,
 "nbformat_minor": 5
}
