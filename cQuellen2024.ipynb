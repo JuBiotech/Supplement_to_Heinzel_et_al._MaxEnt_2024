{
 "cells": [
  {
   "cell_type": "code",
   "execution_count": 1,
   "id": "ad39e96e-12b4-491a-9e36-421e708cc1a4",
   "metadata": {
    "tags": []
   },
   "outputs": [],
   "source": [
    "import cobra\n",
    "import pandas as pd"
   ]
  },
  {
   "cell_type": "code",
   "execution_count": 2,
   "id": "9f9d556b-3137-488a-ae0d-5ffee607245b",
   "metadata": {
    "tags": []
   },
   "outputs": [
    {
     "name": "stdout",
     "output_type": "stream",
     "text": [
      "cobrapy version 0.29.0\n",
      "pandas version 2.2.2\n"
     ]
    }
   ],
   "source": [
    "print('cobrapy version', cobra.__version__)\n",
    "print('pandas version', pd.__version__)"
   ]
  },
  {
   "cell_type": "code",
   "execution_count": null,
   "id": "e24f2c1f-c15f-4775-8331-4f9232e3a227",
   "metadata": {
    "tags": []
   },
   "outputs": [],
   "source": [
    "original_model= cobra.io.read_sbml_model('models/iEZ481_2024.xml')"
   ]
  },
  {
   "cell_type": "code",
   "execution_count": 4,
   "id": "3345dd9f-8a3f-4e6e-a7da-3ab96a944009",
   "metadata": {},
   "outputs": [
    {
     "name": "stdout",
     "output_type": "stream",
     "text": [
      "Read LP format model from file /tmp/tmph83wp_s0.lp\n",
      "Reading time = 0.00 seconds\n",
      ": 413 rows, 1116 columns, 4450 nonzeros\n"
     ]
    }
   ],
   "source": [
    "# reset model without having to parse xml\n",
    "model = original_model.copy()"
   ]
  },
  {
   "cell_type": "code",
   "execution_count": 5,
   "id": "bbf852f6-0063-499e-96f4-6f519435d428",
   "metadata": {
    "tags": []
   },
   "outputs": [],
   "source": [
    "model.solver = 'glpk'\n",
    "# GLPK has trouble, try gurobi\n",
    "# model.solver = 'gurobi' "
   ]
  },
  {
   "cell_type": "code",
   "execution_count": 6,
   "id": "8f804e2d-365a-4c47-b96f-cb14cbd0677f",
   "metadata": {
    "tags": []
   },
   "outputs": [
    {
     "data": {
      "text/plain": [
       "optlang.glpk_interface.Model"
      ]
     },
     "execution_count": 6,
     "metadata": {},
     "output_type": "execute_result"
    }
   ],
   "source": [
    "type(model.solver)"
   ]
  },
  {
   "cell_type": "markdown",
   "id": "eec0173b-64b9-44e2-8533-24c0d9b2d95b",
   "metadata": {
    "tags": []
   },
   "source": [
    "# Example setting boundaries"
   ]
  },
  {
   "cell_type": "code",
   "execution_count": 7,
   "id": "667e67f4-d4b6-47cb-900b-f9b8137169c0",
   "metadata": {
    "tags": []
   },
   "outputs": [
    {
     "data": {
      "text/html": [
       "\n",
       "        <table>\n",
       "            <tr>\n",
       "                <td><strong>Reaction identifier</strong></td><td>EX_o2_e</td>\n",
       "            </tr><tr>\n",
       "                <td><strong>Name</strong></td><td>EX_o2(e)</td>\n",
       "            </tr><tr>\n",
       "                <td><strong>Memory address</strong></td>\n",
       "                <td>0x7dfabb5d0ca0</td>\n",
       "            </tr><tr>\n",
       "                <td><strong>Stoichiometry</strong></td>\n",
       "                <td>\n",
       "                    <p style='text-align:right'>o2_e <=></p>\n",
       "                    <p style='text-align:right'>o2[e] <=></p>\n",
       "                </td>\n",
       "            </tr><tr>\n",
       "                <td><strong>GPR</strong></td><td></td>\n",
       "            </tr><tr>\n",
       "                <td><strong>Lower bound</strong></td><td>-1000.0</td>\n",
       "            </tr><tr>\n",
       "                <td><strong>Upper bound</strong></td><td>1000.0</td>\n",
       "            </tr>\n",
       "        </table>\n",
       "        "
      ],
      "text/plain": [
       "<Reaction EX_o2_e at 0x7dfabb5d0ca0>"
      ]
     },
     "execution_count": 7,
     "metadata": {},
     "output_type": "execute_result"
    }
   ],
   "source": [
    "# example getting reaction by id (note the lower case o)\n",
    "model.reactions.get_by_id(\"EX_o2_e\")"
   ]
  },
  {
   "cell_type": "code",
   "execution_count": 8,
   "id": "dd049e69-09f9-4923-97fb-ba436a758fdf",
   "metadata": {
    "tags": []
   },
   "outputs": [],
   "source": [
    "model.reactions.get_by_id(\"EX_o2_e\").lower_bound = -30"
   ]
  },
  {
   "cell_type": "code",
   "execution_count": 9,
   "id": "349351d3-5a20-425f-9bc3-a7ec95324434",
   "metadata": {
    "tags": []
   },
   "outputs": [
    {
     "data": {
      "text/html": [
       "\n",
       "        <table>\n",
       "            <tr>\n",
       "                <td><strong>Reaction identifier</strong></td><td>EX_o2_e</td>\n",
       "            </tr><tr>\n",
       "                <td><strong>Name</strong></td><td>EX_o2(e)</td>\n",
       "            </tr><tr>\n",
       "                <td><strong>Memory address</strong></td>\n",
       "                <td>0x7dfabb5d0ca0</td>\n",
       "            </tr><tr>\n",
       "                <td><strong>Stoichiometry</strong></td>\n",
       "                <td>\n",
       "                    <p style='text-align:right'>o2_e <=></p>\n",
       "                    <p style='text-align:right'>o2[e] <=></p>\n",
       "                </td>\n",
       "            </tr><tr>\n",
       "                <td><strong>GPR</strong></td><td></td>\n",
       "            </tr><tr>\n",
       "                <td><strong>Lower bound</strong></td><td>-30</td>\n",
       "            </tr><tr>\n",
       "                <td><strong>Upper bound</strong></td><td>1000.0</td>\n",
       "            </tr>\n",
       "        </table>\n",
       "        "
      ],
      "text/plain": [
       "<Reaction EX_o2_e at 0x7dfabb5d0ca0>"
      ]
     },
     "execution_count": 9,
     "metadata": {},
     "output_type": "execute_result"
    }
   ],
   "source": [
    "model.reactions.get_by_id(\"EX_o2_e\")"
   ]
  },
  {
   "cell_type": "markdown",
   "id": "01aaa052-815c-4b64-ab2f-1d3b0871447e",
   "metadata": {
    "tags": []
   },
   "source": [
    "# Standard settings"
   ]
  },
  {
   "cell_type": "code",
   "execution_count": 10,
   "id": "e6d925dd-0269-4e2e-bf86-5e816934bbbb",
   "metadata": {
    "tags": []
   },
   "outputs": [
    {
     "name": "stdout",
     "output_type": "stream",
     "text": [
      "pre biomass_reaction\n",
      "biomass_a: 0.095 ARABINOGALACTAN_c + 0.01 DNA_c + 0.102 MYCOLICACID_c + 0.095 PEPTIDOGLYCAN_c + 0.028 PHOSPHOLIPID_c + PROTEIN_c + 0.05 RNA_c + 47.7 atp_c --> 47.7 adp_c + 47.7 pi_c\n",
      "post biomass_reaction\n",
      "biomass_a: 0.095 ARABINOGALACTAN_c + 0.01 DNA_c + 0.102 MYCOLICACID_c + 0.095 PEPTIDOGLYCAN_c + 0.028 PHOSPHOLIPID_c + PROTEIN_c + 0.05 RNA_c + 35.6 atp_c --> 35.6 adp_c + 35.6 pi_c\n"
     ]
    }
   ],
   "source": [
    "## Manual translations\n",
    "ub = 0 # default ub\n",
    "lb = 0 # default lb\n",
    "\n",
    "# M=changeRxnBounds(M,'EX_o2_e',-30,'l');\n",
    "model.reactions.get_by_id(\"EX_o2_e\").lower_bound = -30\n",
    "# M=changeRxnBounds(M,'PI_t_NA',0,'b');\n",
    "model.reactions.get_by_id(\"PI_t_NA\").lower_bound = lb\n",
    "model.reactions.get_by_id(\"PI_t_NA\").upper_bound = ub\n",
    "\n",
    "# M=changeRxnBounds(M,'PI_t_ATP',0,'b');\n",
    "model.reactions.get_by_id(\"PI_t_ATP\").lower_bound = lb\n",
    "model.reactions.get_by_id(\"PI_t_ATP\").upper_bound = ub\n",
    "\n",
    "## Caution: The expressions below were translated from matlab by chatgpt. I asked chatgpt to comment the originals\n",
    "## above but they should be re-checked manually.\n",
    "# M=changeRxnBounds(M,'aceA',0,'b');\n",
    "model.reactions.get_by_id(\"aceA\").lower_bound = lb\n",
    "model.reactions.get_by_id(\"aceA\").upper_bound = ub\n",
    "\n",
    "# M=changeRxnBounds(M,'aceB',0,'b');\n",
    "model.reactions.get_by_id(\"aceB\").lower_bound = lb\n",
    "model.reactions.get_by_id(\"aceB\").upper_bound = ub\n",
    "\n",
    "# M=changeRxnBounds(M,'NH3_t_H',0,'b');\n",
    "model.reactions.get_by_id(\"NH3_t_H\").lower_bound = lb\n",
    "model.reactions.get_by_id(\"NH3_t_H\").upper_bound = ub\n",
    "\n",
    "# M=changeRxnBounds(M,'UREA_d',0,'b');\n",
    "model.reactions.get_by_id(\"UREA_d\").lower_bound = lb\n",
    "model.reactions.get_by_id(\"UREA_d\").upper_bound = ub\n",
    "\n",
    "# M=changeRxnBounds(M,'UREA_t_H',0,'b');\n",
    "model.reactions.get_by_id(\"UREA_t_H\").lower_bound = lb\n",
    "model.reactions.get_by_id(\"UREA_t_H\").upper_bound = ub\n",
    "\n",
    "# M=changeRxnBounds(M,'SUC_t_H',0,'b');\n",
    "model.reactions.get_by_id(\"SUC_t_H\").lower_bound = lb\n",
    "model.reactions.get_by_id(\"SUC_t_H\").upper_bound = ub\n",
    "\n",
    "# M=changeRxnBounds(M,'FUM_t_H',0,'b');\n",
    "model.reactions.get_by_id(\"FUM_t_H\").lower_bound = lb\n",
    "model.reactions.get_by_id(\"FUM_t_H\").upper_bound = ub\n",
    "\n",
    "# M=changeRxnBounds(M,'MAL_t_H',0,'b');\n",
    "model.reactions.get_by_id(\"MAL_t_H\").lower_bound = lb\n",
    "model.reactions.get_by_id(\"MAL_t_H\").upper_bound = ub\n",
    "\n",
    "# M=changeRxnBounds(M,'NA_t_H',0,'b');\n",
    "model.reactions.get_by_id(\"NA_t_H\").lower_bound = lb\n",
    "model.reactions.get_by_id(\"NA_t_H\").upper_bound = ub\n",
    "\n",
    "# M=changeRxnBounds(M,'LAC_L_t_H',0,'b');\n",
    "model.reactions.get_by_id(\"LAC_L_t_H\").lower_bound = lb\n",
    "model.reactions.get_by_id(\"LAC_L_t_H\").upper_bound = ub\n",
    "\n",
    "# M=changeRxnBounds(M,'LYS_t_H',0,'b');\n",
    "model.reactions.get_by_id(\"LYS_t_H\").lower_bound = lb\n",
    "model.reactions.get_by_id(\"LYS_t_H\").upper_bound = ub\n",
    "\n",
    "# M=changeRxnBounds(M,'AC_t_H',0,'b');\n",
    "model.reactions.get_by_id(\"AC_t_H\").lower_bound = lb\n",
    "model.reactions.get_by_id(\"AC_t_H\").upper_bound = ub\n",
    "\n",
    "# M=changeRxnBounds(M,'NO3_t_H',0,'b');\n",
    "model.reactions.get_by_id(\"NO3_t_H\").lower_bound = lb\n",
    "model.reactions.get_by_id(\"NO3_t_H\").upper_bound = ub\n",
    "\n",
    "# M=changeRxnBounds(M,'GLU_t_H',0,'b');\n",
    "model.reactions.get_by_id(\"GLU_t_H\").lower_bound = lb\n",
    "model.reactions.get_by_id(\"GLU_t_H\").upper_bound = ub\n",
    "\n",
    "# M=changeRxnBounds(M,'THR_t_H',0,'b');\n",
    "model.reactions.get_by_id(\"THR_t_H\").lower_bound = lb\n",
    "model.reactions.get_by_id(\"THR_t_H\").upper_bound = ub\n",
    "\n",
    "# M=changeRxnBounds(M,'nagB',0,'l');\n",
    "model.reactions.get_by_id(\"nagB\").lower_bound = lb\n",
    "\n",
    "# M=changeRxnBounds(M,'PPI_d',0,'b');\n",
    "model.reactions.get_by_id(\"PPI_d\").lower_bound = lb\n",
    "model.reactions.get_by_id(\"PPI_d\").upper_bound = ub\n",
    "\n",
    "# M=changeRxnBounds(M,'tkt_1',0,'l');\n",
    "model.reactions.get_by_id(\"tkt_1\").lower_bound = lb\n",
    "\n",
    "# M=changeRxnBounds(M,'tkt_2',0,'l');\n",
    "model.reactions.get_by_id(\"tkt_2\").lower_bound = lb\n",
    "\n",
    "# M=changeRxnBounds(M,'tal',0,'l');\n",
    "model.reactions.get_by_id(\"tal\").lower_bound = lb\n",
    "\n",
    "# M=changeRxnBounds(M,'glgC',0,'b');\n",
    "model.reactions.get_by_id(\"glgC\").lower_bound = lb\n",
    "model.reactions.get_by_id(\"glgC\").upper_bound = ub\n",
    "\n",
    "# M=changeRxnBounds(M,'CO2_d',0,'l');\n",
    "model.reactions.get_by_id(\"CO2_d\").lower_bound = lb\n",
    "\n",
    "# M=changeRxnBounds(M,'aspA',0,'l');\n",
    "model.reactions.get_by_id(\"aspA\").lower_bound = lb\n",
    "\n",
    "# M=changeRxnBounds(M,'aspB',0,'l');\n",
    "model.reactions.get_by_id(\"aspB\").lower_bound = lb\n",
    "\n",
    "# M=changeRxnBounds(M,'leakage',-50,'l');\n",
    "model.reactions.get_by_id(\"leakage\").lower_bound = -50\n",
    "\n",
    "# M=changeRxnBounds(M,'leakage',50,'u');\n",
    "model.reactions.get_by_id(\"leakage\").upper_bound = 50\n",
    "\n",
    "# M=changeRxnBounds(M,'folD2',-1,'l');\n",
    "model.reactions.get_by_id(\"folD2\").lower_bound = -1\n",
    "\n",
    "# M=changeRxnBounds(M,'metF',-1,'l');\n",
    "model.reactions.get_by_id(\"metF\").lower_bound = -1\n",
    "\n",
    "# M=changeRxnBounds(M,'folD2',1,'u');\n",
    "model.reactions.get_by_id(\"folD2\").upper_bound = 1\n",
    "\n",
    "# M=changeRxnBounds(M,'metF',1,'u');\n",
    "model.reactions.get_by_id(\"metF\").upper_bound = 1\n",
    "\n",
    "# M=changeRxnBounds(M,'pps',0,'b');\n",
    "model.reactions.get_by_id(\"pps\").lower_bound = lb\n",
    "model.reactions.get_by_id(\"pps\").upper_bound = ub\n",
    "\n",
    "# M=changeRxnBounds(M,'glpD',0,'b');\n",
    "model.reactions.get_by_id(\"glpD\").lower_bound = lb\n",
    "model.reactions.get_by_id(\"glpD\").upper_bound = ub\n",
    "\n",
    "# M=changeRxnBounds(M,'putA',0,'b');\n",
    "model.reactions.get_by_id(\"putA\").lower_bound = lb\n",
    "model.reactions.get_by_id(\"putA\").upper_bound = ub\n",
    "\n",
    "# M=changeRxnBounds(M,'tpiA',-100,'l');\n",
    "model.reactions.get_by_id(\"tpiA\").lower_bound = -100\n",
    "\n",
    "# M=changeRxnBounds(M,'aceA',-100,'l');\n",
    "model.reactions.get_by_id(\"aceA\").lower_bound = -100\n",
    "\n",
    "# M=changeRxnBounds(M,'aceA',100,'u');\n",
    "model.reactions.get_by_id(\"aceA\").upper_bound = 100\n",
    "\n",
    "# M=changeRxnBounds(M,'aceB',100,'u');\n",
    "model.reactions.get_by_id(\"aceB\").upper_bound = 100\n",
    "\n",
    "# M=changeRxnBounds(M,'quiC',0,'b');\n",
    "model.reactions.get_by_id(\"quiC\").lower_bound = lb\n",
    "model.reactions.get_by_id(\"quiC\").upper_bound = ub\n",
    "\n",
    "# M=changeRxnBounds(M,'PROTEIN_b',0,'b');\n",
    "model.reactions.get_by_id(\"PROTEIN_b\").lower_bound = lb\n",
    "model.reactions.get_by_id(\"PROTEIN_b\").upper_bound = ub\n",
    "\n",
    "# M=changeRxnBounds(M,'DNA_a',0,'b');\n",
    "model.reactions.get_by_id(\"DNA_a\").lower_bound = lb\n",
    "model.reactions.get_by_id(\"DNA_a\").upper_bound = ub\n",
    "\n",
    "\n",
    "\n",
    "biomass_reaction = model.reactions.get_by_id('biomass_a')\n",
    "# Adjust stoichiometric coefficients of specific metabolites in the biomass reaction\n",
    "print('pre biomass_reaction')\n",
    "print(biomass_reaction)\n",
    "for metabolite in biomass_reaction.metabolites:\n",
    "    if metabolite.id == 'atp_c':\n",
    "        biomass_reaction.add_metabolites({metabolite: -(29.2 + 6.4)}, combine=False) # combine=False to replace old stoichiometric coefficients\n",
    "    elif metabolite.id == 'adp_c':\n",
    "        biomass_reaction.add_metabolites({metabolite: 29.2 + 6.4}, combine=False) # combine=False to replace old stoichiometric coefficients\n",
    "    elif metabolite.id == 'pi_c':\n",
    "        biomass_reaction.add_metabolites({metabolite: 29.2 + 6.4}, combine=False) # combine=False to replace old stoichiometric coefficients\n",
    "print('post biomass_reaction')\n",
    "print(biomass_reaction)\n",
    "\n",
    "# M=changeRxnBounds(M,'mt',0,'b'); % [1.08,1.8] nomineller Wert 1.4\n",
    "# [1.08, 1.8] nomineller wert 1.4\n",
    "# why is maintenance set to 0 in original cQuellen2024.m?\n",
    "model.reactions.get_by_id('mt').lower_bound = 0\n",
    "model.reactions.get_by_id('mt').upper_bound = 0"
   ]
  },
  {
   "cell_type": "markdown",
   "id": "8e58730d-348d-46c5-a3ac-6b8442a0ca2c",
   "metadata": {},
   "source": [
    "# test PCA configuration"
   ]
  },
  {
   "cell_type": "code",
   "execution_count": 11,
   "id": "db4d535e-ec8f-42b6-9bc4-8fce19cae849",
   "metadata": {
    "tags": []
   },
   "outputs": [
    {
     "name": "stdout",
     "output_type": "stream",
     "text": [
      "objective direction max\n",
      "objective expr 1.0*EX_pca - 1.0*EX_pca_reverse_a20af\n",
      "biomass_a: 0.095 ARABINOGALACTAN_c + 0.01 DNA_c + 0.102 MYCOLICACID_c + 0.095 PEPTIDOGLYCAN_c + 0.028 PHOSPHOLIPID_c + PROTEIN_c + 0.05 RNA_c + 35.6 atp_c --> 35.6 adp_c + 35.6 pi_c\n",
      "For Maximize\n",
      "1.0*EX_pca - 1.0*EX_pca_reverse_a20af\n",
      "cobrapy found: -1.100699042141173 (~=-1.1007)\n"
     ]
    }
   ],
   "source": [
    "# Set the objective to glucose uptake and allow glucose uptake\n",
    "model_PCA = model.copy()\n",
    "model_PCA.solver = 'glpk' \n",
    "\n",
    "model_PCA.objective = 'EX_pca'\n",
    "model_PCA.objective.direction = \"max\"\n",
    "print('objective direction', model_PCA.objective.direction)\n",
    "print('objective expr', model_PCA.objective.expression)\n",
    "model_PCA.reactions.get_by_id('EX_glc_e').upper_bound = 0\n",
    "model_PCA.reactions.get_by_id('EX_glc_e').lower_bound = 0 \n",
    "model_PCA.reactions.get_by_id('EX_pca').lower_bound = -10 \n",
    "\n",
    "# Set the growth rate bounds on glucose + PCA as carbon source\n",
    "model_PCA.reactions.get_by_id('biomass_a').lower_bound = 0.1\n",
    "model_PCA.reactions.get_by_id('biomass_a').upper_bound = 0.1\n",
    "\n",
    "# Perform Flux Balance Analysis (FBA)\n",
    "print(model_PCA.reactions.biomass_a)\n",
    "# solution = cobra.flux_analysis.parsimonious.pfba(model_PCA)\n",
    "solution = model_PCA.optimize()\n",
    "print('For', model_PCA.objective)\n",
    "print('cobrapy found:', solution.objective_value, f'(~={-1.1007})') # -1.1007 is quickSolveFBA solution from matlab\n",
    "# Not storing this model, it was only a sanity check"
   ]
  },
  {
   "cell_type": "markdown",
   "id": "ec175a77-5448-4023-9dd4-28d45c7a0df3",
   "metadata": {},
   "source": [
    "# Read growth rate data"
   ]
  },
  {
   "cell_type": "code",
   "execution_count": 16,
   "id": "35172211-fa41-46a2-90d6-3c60fa00496d",
   "metadata": {
    "tags": []
   },
   "outputs": [
    {
     "name": "stdout",
     "output_type": "stream",
     "text": [
      "PCA-Gluc mu: 0.1557936152166388 += 0.012774444510135584\n",
      "glucose-MOPS mu: 0.5829104732740061 += 0.022196212314551926\n",
      "citrat-MOPS mu: 0.7229719008169772 += 0.04890741496672533\n"
     ]
    }
   ],
   "source": [
    "all_mu = pd.read_csv('data/extracted_growth_rates_with_media.csv', index_col=0)\n",
    "# select area method (we could have used others, but area works well)\"\n",
    "method = \"area\"\n",
    "all_mu = all_mu[all_mu['method'].str.contains(\"area\")]\n",
    "pca_gluc_mu = all_mu[all_mu['medium'] == \"PCA-Gluc\"].reset_index()\n",
    "gluc_mu = all_mu[all_mu['medium'] == \"Glucose-MOPS\"].reset_index()\n",
    "citr_mu = all_mu[all_mu['medium'] == \"Citrat-MOPS\"].reset_index()\n",
    "\n",
    "mean_pca_gluc_mu = float(pca_gluc_mu['mu'].mean())\n",
    "std_pca_gluc_mu = float(pca_gluc_mu['mu'].std())\n",
    "print('PCA-Gluc mu:', mean_pca_gluc_mu, '+=', std_pca_gluc_mu)\n",
    "\n",
    "mean_gluc_mu = float(gluc_mu['mu'].mean())\n",
    "std_gluc_mu = float(gluc_mu['mu'].std())\n",
    "print('glucose-MOPS mu:', mean_gluc_mu, '+=', std_gluc_mu)\n",
    "\n",
    "mean_citr_mu = float(citr_mu['mu'].mean())\n",
    "std_citr_mu = float(citr_mu['mu'].std())\n",
    "print('citrat-MOPS mu:', mean_citr_mu, '+=', std_citr_mu)"
   ]
  },
  {
   "cell_type": "markdown",
   "id": "abe1c1e9-6399-4ad8-9f7f-0ebd7a9ebe98",
   "metadata": {},
   "source": [
    "# create Glucose-MOPS configuration"
   ]
  },
  {
   "cell_type": "code",
   "execution_count": 13,
   "id": "5b0a04f5-ae5a-4ca9-b595-c5f957e3ad0d",
   "metadata": {
    "tags": []
   },
   "outputs": [
    {
     "name": "stdout",
     "output_type": "stream",
     "text": [
      "objective direction max\n",
      "objective expr 1.0*EX_glc_e - 1.0*EX_glc_e_reverse_6226d\n",
      "biomass_a: 0.095 ARABINOGALACTAN_c + 0.01 DNA_c + 0.102 MYCOLICACID_c + 0.095 PEPTIDOGLYCAN_c + 0.028 PHOSPHOLIPID_c + PROTEIN_c + 0.05 RNA_c + 35.6 atp_c --> 35.6 adp_c + 35.6 pi_c\n",
      "For Maximize\n",
      "1.0*EX_glc_e - 1.0*EX_glc_e_reverse_6226d\n",
      "cobrapy found: -5.267724897403417\n"
     ]
    }
   ],
   "source": [
    "# Guessed by FJ\n",
    "# Set the objective to glucose uptake and allow glucose uptake\n",
    "model_Glc = model.copy()\n",
    "model_Glc.solver = 'glpk' \n",
    "\n",
    "model_Glc.objective = 'EX_glc_e'\n",
    "model_Glc.objective.direction = \"max\"\n",
    "print('objective direction', model_Glc.objective.direction)\n",
    "print('objective expr', model_Glc.objective.expression)\n",
    "model_Glc.reactions.get_by_id('EX_glc_e').upper_bound = 0\n",
    "model_Glc.reactions.get_by_id('EX_glc_e').lower_bound = -30 \n",
    "model_Glc.reactions.get_by_id('EX_pca').lower_bound = 0 \n",
    "\n",
    "# Wachstumsrate festsetzen auf mean\n",
    "model_Glc.reactions.get_by_id('biomass_a').lower_bound = mean_gluc_mu\n",
    "model_Glc.reactions.get_by_id('biomass_a').upper_bound = mean_gluc_mu\n",
    "\n",
    "# Perform Flux Balance Analysis (FBA)\n",
    "print(model_Glc.reactions.biomass_a)\n",
    "solution = model_Glc.optimize()\n",
    "print('For', model_Glc.objective)\n",
    "print('cobrapy found:', solution.objective_value)\n",
    "cobra.io.write_sbml_model(model_Glc, \"models/iEZ481_Glucose-MOPS.xml\")"
   ]
  },
  {
   "cell_type": "markdown",
   "id": "77008e3f-fe1d-4bba-923d-a59fbde39b47",
   "metadata": {
    "tags": []
   },
   "source": [
    "# create PCA-Gluc configuration"
   ]
  },
  {
   "cell_type": "code",
   "execution_count": 14,
   "id": "00be610d-43bc-476e-ad2d-5bb30fa2b92e",
   "metadata": {
    "tags": []
   },
   "outputs": [
    {
     "name": "stdout",
     "output_type": "stream",
     "text": [
      "objective direction max\n",
      "objective expr 1.0*EX_glc_e - 1.0*EX_glc_e_reverse_6226d\n",
      "For Maximize\n",
      "1.0*EX_glc_e - 1.0*EX_glc_e_reverse_6226d\n",
      "cobrapy found: -0.4884477055963732\n"
     ]
    }
   ],
   "source": [
    "# Set the objective to glucose uptake and allow glucose uptake\n",
    "model_PCA_gluc = model.copy()\n",
    "model_PCA_gluc.solver = 'glpk' \n",
    "\n",
    "model_PCA_gluc.objective = 'EX_glc_e'\n",
    "model_PCA_gluc.objective.direction = \"max\"\n",
    "print('objective direction', model_PCA_gluc.objective.direction)\n",
    "print('objective expr', model_PCA_gluc.objective.expression)\n",
    "model_PCA_gluc.reactions.get_by_id('EX_glc_e').upper_bound = 30\n",
    "model_PCA_gluc.reactions.get_by_id('EX_glc_e').lower_bound = -30 \n",
    "\n",
    "# Guesstimate: with just PCA the cells take up  1.1 of PCA\n",
    "model_PCA_gluc.reactions.get_by_id('EX_pca').lower_bound = -1.1\n",
    "model_PCA_gluc.reactions.get_by_id('EX_pca').upper_bound = -1.1\n",
    "\n",
    "model_PCA_gluc.reactions.get_by_id('biomass_a').upper_bound = mean_pca_gluc_mu\n",
    "model_PCA_gluc.reactions.get_by_id('biomass_a').lower_bound = mean_pca_gluc_mu\n",
    "\n",
    "solution = model_PCA_gluc.optimize()\n",
    "print('For', model_PCA_gluc.objective)\n",
    "print('cobrapy found:', solution.objective_value)\n",
    "cobra.io.write_sbml_model(model_PCA_gluc, \"models/iEZ481_PCA_Gluc.xml\")"
   ]
  },
  {
   "cell_type": "markdown",
   "id": "89830efc-83cf-41e1-9b66-20c0f2453fa1",
   "metadata": {},
   "source": [
    "# create Citrate-MOPS configuration"
   ]
  },
  {
   "cell_type": "code",
   "execution_count": 17,
   "id": "da13edc5-24a9-4743-b487-a4c1108100b0",
   "metadata": {
    "tags": []
   },
   "outputs": [
    {
     "name": "stdout",
     "output_type": "stream",
     "text": [
      "objective direction max\n",
      "objective expr 1.0*EX_cit_e - 1.0*EX_cit_e_reverse_0835e\n",
      "biomass_a: 0.095 ARABINOGALACTAN_c + 0.01 DNA_c + 0.102 MYCOLICACID_c + 0.095 PEPTIDOGLYCAN_c + 0.028 PHOSPHOLIPID_c + PROTEIN_c + 0.05 RNA_c + 35.6 atp_c --> 35.6 adp_c + 35.6 pi_c\n",
      "For Maximize\n",
      "1.0*EX_cit_e - 1.0*EX_cit_e_reverse_0835e\n",
      "cobrapy found: -1.654943172750439\n"
     ]
    }
   ],
   "source": [
    "# Guessed by FJ\n",
    "# Set the objective to glucose uptake and allow citrate uptake\n",
    "model_Citr = model.copy()\n",
    "model_Citr.solver = 'glpk' \n",
    "\n",
    "model_Citr.objective = 'EX_cit_e'\n",
    "model_Citr.objective.direction = \"max\"\n",
    "print('objective direction', model_Citr.objective.direction)\n",
    "print('objective expr', model_Citr.objective.expression)\n",
    "model_Citr.reactions.get_by_id('EX_cit_e').upper_bound = 0\n",
    "model_Citr.reactions.get_by_id('EX_cit_e').lower_bound = -30 \n",
    "model_Citr.reactions.get_by_id('EX_pca').lower_bound = 0 \n",
    "\n",
    "# Wachstumsrate festsetzen auf mean\n",
    "model_Citr.reactions.get_by_id('biomass_a').lower_bound = mean_citr_mu\n",
    "model_Citr.reactions.get_by_id('biomass_a').upper_bound = mean_citr_mu\n",
    "\n",
    "# Perform Flux Balance Analysis (FBA)\n",
    "print(model_Citr.reactions.biomass_a)\n",
    "solution = model_Citr.optimize()\n",
    "print('For', model_Citr.objective)\n",
    "print('cobrapy found:', solution.objective_value)\n",
    "cobra.io.write_sbml_model(model_Citr, \"models/iEZ481_Citrat-MOPS.xml\")"
   ]
  },
  {
   "cell_type": "code",
   "execution_count": null,
   "id": "addad39b-e53e-47ed-86d4-accf4bc89062",
   "metadata": {},
   "outputs": [],
   "source": []
  },
  {
   "cell_type": "code",
   "execution_count": null,
   "id": "f6164257-d969-45be-b255-3913f564b93e",
   "metadata": {},
   "outputs": [],
   "source": []
  }
 ],
 "metadata": {
  "kernelspec": {
   "display_name": "Python 3 (ipykernel)",
   "language": "python",
   "name": "python3"
  },
  "language_info": {
   "codemirror_mode": {
    "name": "ipython",
    "version": 3
   },
   "file_extension": ".py",
   "mimetype": "text/x-python",
   "name": "python",
   "nbconvert_exporter": "python",
   "pygments_lexer": "ipython3",
   "version": "3.10.12"
  }
 },
 "nbformat": 4,
 "nbformat_minor": 5
}
