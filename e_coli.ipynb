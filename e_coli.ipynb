{
 "cells": [
  {
   "cell_type": "code",
   "execution_count": 1,
   "id": "19a51834-9406-428c-b0ef-b8f686906abe",
   "metadata": {
    "tags": []
   },
   "outputs": [],
   "source": [
    "import matplotlib.pyplot as plt\n",
    "import hopsy\n",
    "import os\n",
    "import numpy as np\n",
    "from scipy.optimize import fsolve\n",
    "import pandas as pd\n",
    "from scipy.optimize import curve_fit\n",
    "from PolyRound.api import PolyRoundApi"
   ]
  },
  {
   "cell_type": "code",
   "execution_count": 2,
   "id": "c8a92bed-0e0f-46ed-95cf-ddd47c7e4117",
   "metadata": {
    "tags": []
   },
   "outputs": [],
   "source": [
    "class Boltzman_Modell:\n",
    "    def __init__(self, beta, index):\n",
    "        self.beta = beta\n",
    "        self.index = index\n",
    "        \n",
    "    def compute_negative_log_likelihood(self, x):\n",
    "        print('x', x.shape)\n",
    "        return - beta @ x[self.index]"
   ]
  },
  {
   "cell_type": "code",
   "execution_count": 3,
   "id": "997d7971-2523-43af-8217-c5b9e42b65c8",
   "metadata": {
    "tags": []
   },
   "outputs": [],
   "source": [
    "model_path = os.path.join(\"models\", \"e_coli_core.xml\")"
   ]
  },
  {
   "cell_type": "code",
   "execution_count": 4,
   "id": "0512aa82-4cc4-4bd6-83fd-00d1f898aa82",
   "metadata": {
    "tags": []
   },
   "outputs": [
    {
     "name": "stdout",
     "output_type": "stream",
     "text": [
      "Set parameter Username\n",
      "Academic license - for non-commercial use only - expires 2023-11-30\n"
     ]
    }
   ],
   "source": [
    "raw_polytope = PolyRoundApi.sbml_to_polytope(model_path)\n",
    "biomass_index = raw_polytope.A.columns.tolist().index('BIOMASS_Ecoli_core_w_GAM')\n",
    "glucose_uptake_index = raw_polytope.A.columns.tolist().index('EX_glc__D_e')\n",
    "polytope = PolyRoundApi.simplify_transform_and_round(raw_polytope)\n",
    "\n",
    "uniform = hopsy.Problem(A=polytope.A, b=polytope.b, transformation=polytope.transformation, shift=polytope.shift)\n",
    "starting_point = hopsy.compute_chebyshev_center(uniform)"
   ]
  },
  {
   "cell_type": "code",
   "execution_count": 5,
   "id": "c5d5cc43-5802-4ea4-a087-4ba7f7f76f25",
   "metadata": {
    "tags": []
   },
   "outputs": [],
   "source": [
    "problems = {\n",
    "    'uniform': uniform,\n",
    "    # 'beta=0': uniform_2,  TODO\n",
    "    # 'beta=10': boltzmann_1, TODO\n",
    "    # 'beta=-10': boltzmann_2, TODO\n",
    "    }"
   ]
  },
  {
   "cell_type": "code",
   "execution_count": null,
   "id": "1e79caf0-69d4-4647-965f-8e54bde76805",
   "metadata": {
    "tags": []
   },
   "outputs": [
    {
     "name": "stdout",
     "output_type": "stream",
     "text": [
      "uniform\n"
     ]
    }
   ],
   "source": [
    "rhat = {}\n",
    "ess = {}\n",
    "samples = {}\n",
    "acceptance_rate = {}\n",
    "n_chains = 4 \n",
    "n_samples = 10000\n",
    "thinning = 10\n",
    "\n",
    "for p, v in problems.items():\n",
    "    print(p)\n",
    "    proposal = hopsy.UniformCoordinateHitAndRunProposal(v, starting_point=starting_point)\n",
    "    mcs = [hopsy.MarkovChain(problem=v, proposal=proposal) for i in range(n_chains)]\n",
    "    rngs = [hopsy.RandomNumberGenerator(i) for i in range(n_chains)]\n",
    "    acceptance_rate[p], samples[p] = hopsy.sample(mcs, rngs, n_samples=n_samples, thinning=thinning, n_procs=1)\n",
    "    ess[p] = hopsy.ess(samples[p])\n",
    "    print('\\tess', np.min(ess[p]))\n",
    "    rhat[p] = hopsy.rhat(samples[p])\n",
    "    print('\\trhat', np.max(rhat[p]))"
   ]
  },
  {
   "cell_type": "code",
   "execution_count": null,
   "id": "9433f303-f0df-4635-a462-4bbad28d4ae4",
   "metadata": {},
   "outputs": [],
   "source": [
    "plt.title('biomass')\n",
    "plt.hist(samples['uniform'][0, :, biomass_index])\n",
    "# TODO\n",
    "# plt.hist(samples['beta=0'][0, :, biomass_index])\n",
    "# plt.hist(samples['beta=10'][0, :, biomass_index])\n",
    "# plt.hist(samples['beta=-10'][0, :, biomass_index])\n",
    "plt.show()\n",
    "plt.title('-glucose uptake')\n",
    "plt.hist(samples['uniform'][0, :, glucose_uptake_index])\n",
    "# TODO\n",
    "# plt.hist(samples['beta=0'][0, :, glucose_uptake_index])\n",
    "# plt.hist(samples['beta=10'][0, :, glucose_uptake_index])\n",
    "# plt.hist(samples['beta=-10'][0, :, glucose_uptake_index])\n",
    "plt.show()"
   ]
  },
  {
   "cell_type": "code",
   "execution_count": null,
   "id": "d5869979-a41d-4011-82b7-d5a5db088b9c",
   "metadata": {},
   "outputs": [],
   "source": []
  },
  {
   "cell_type": "code",
   "execution_count": null,
   "id": "2ee57854-8a4d-4e08-a6f8-842d68da3db6",
   "metadata": {
    "tags": []
   },
   "outputs": [],
   "source": []
  },
  {
   "cell_type": "code",
   "execution_count": null,
   "id": "9a63657a-2840-4359-ad15-191d329a295c",
   "metadata": {},
   "outputs": [],
   "source": []
  }
 ],
 "metadata": {
  "kernelspec": {
   "display_name": "Python 3 (ipykernel)",
   "language": "python",
   "name": "python3"
  },
  "language_info": {
   "codemirror_mode": {
    "name": "ipython",
    "version": 3
   },
   "file_extension": ".py",
   "mimetype": "text/x-python",
   "name": "python",
   "nbconvert_exporter": "python",
   "pygments_lexer": "ipython3",
   "version": "3.10.12"
  }
 },
 "nbformat": 4,
 "nbformat_minor": 5
}
